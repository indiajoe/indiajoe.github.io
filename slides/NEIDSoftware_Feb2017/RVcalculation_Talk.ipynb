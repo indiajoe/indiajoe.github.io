{
 "cells": [
  {
   "cell_type": "markdown",
   "metadata": {
    "slideshow": {
     "slide_type": "slide"
    }
   },
   "source": [
    "# Pipeline: 1D spectra --> RV\n",
    "\n",
    "@joe, @arpita, @chad\n",
    "\n",
    "20 February 2017"
   ]
  },
  {
   "cell_type": "markdown",
   "metadata": {
    "slideshow": {
     "slide_type": "slide"
    }
   },
   "source": [
    "## Going beyond CCF\n",
    "Benefits:\n",
    "+ Use information from all over the spectrum\n",
    "    + Especially important for late type stars\n",
    "+ Minimum variance unbiased estimator (that approaches the Cramer-Rao bound)\n",
    "    + Least Square Regression - HARPS-TERRA\n",
    "    + Match Filtering - scaled Pearson CC\n",
    "    + ...\n",
    "+ Framework which supports advanced treatment of Telluric, stellar activity etc.."
   ]
  },
  {
   "cell_type": "markdown",
   "metadata": {
    "slideshow": {
     "slide_type": "slide"
    }
   },
   "source": [
    "## Step 1 : Cleaning 1D spectra\n",
    "\n",
    "+ Pixel level signal and error estimate\n",
    "+ Sanity checks (Positivity of the data, etc..)"
   ]
  },
  {
   "cell_type": "markdown",
   "metadata": {
    "slideshow": {
     "slide_type": "slide"
    }
   },
   "source": [
    "## Step 2 : Identification of Telluric Contamination \n",
    "\n",
    "**terraspec**\n",
    "+ Modelling for identifying, and flagging of possibly contaminated wavelengths.\n",
    "\n",
    "<img src=\"imgs/TelluricMaskTerraspec.png\">"
   ]
  },
  {
   "cell_type": "markdown",
   "metadata": {
    "slideshow": {
     "slide_type": "slide"
    }
   },
   "source": [
    "## Step 3 : Template Creation\n",
    "\n",
    "+ Intelligent and optimal combining of all Spectra\n",
    "    + Removal of Telluric\n",
    "    + Maximal S/N "
   ]
  },
  {
   "cell_type": "markdown",
   "metadata": {
    "slideshow": {
     "slide_type": "slide"
    }
   },
   "source": [
    "## Step 4 : Template fitting  (Least Squares)\n",
    "\n",
    "Least Squares template fitting provides significant flexibility in incorporating various corrections.\n",
    "\n",
    "+ 4.1) Interpolation of Template\n",
    "+ 4.2) Residue Calculation\n",
    "+ 4.3) Weights\n",
    "+ 4.4) Minimise"
   ]
  },
  {
   "cell_type": "markdown",
   "metadata": {
    "slideshow": {
     "slide_type": "slide"
    }
   },
   "source": [
    "### 4.1) Interpolation of Template\n",
    "+ Finite order splines is computationally fast, but smooths the spectrum\n",
    "+ Band Limited Interpolation is needed.\n",
    "\n",
    "<img src=\"imgs/InterpolationErrorAfter30000.png\">\n",
    "After 30000 random inteprolations."
   ]
  },
  {
   "cell_type": "markdown",
   "metadata": {
    "slideshow": {
     "slide_type": "subslide"
    }
   },
   "source": [
    "**Is data band limited?**\n",
    "\n",
    "+ Pixels convolved with Spectra is over sampled. Hence sampling frequency is much higher than Nyquist.\n",
    "+ However, Pixel-pixel noise and truncation affect BL assumption.\n",
    "    + Sinc interpolation guarantees LS reconstruction of Noisy non-Bandlimited signal.\n",
    "    \n",
    "<img src=\"imgs/FFT_of_OverSampled.png\">"
   ]
  },
  {
   "cell_type": "markdown",
   "metadata": {
    "slideshow": {
     "slide_type": "subslide"
    }
   },
   "source": [
    "Windowing of Sinc function needed.\n",
    "+ Choice of Window function based on flexibility due to over sampling.\n",
    "    + Kaiser window  : Easy to parametrise & maximum energy concentration in the main lobe.\n",
    "\n",
    "<img src=\"imgs/Kaiser13SincFilter4BLInterpolation.png\">"
   ]
  },
  {
   "cell_type": "markdown",
   "metadata": {
    "slideshow": {
     "slide_type": "subslide"
    }
   },
   "source": [
    "#### Filter Delay\n",
    "+ Asymmetric FIR, due to non linear wavelength calibration of pixel \n",
    "+ Quantifiable shift => 0.54 cm/sec delay per interpolation\n",
    "\n",
    "<img src=\"imgs/FilterDelayinSincInterpolaton_RedLagBue.png\">"
   ]
  },
  {
   "cell_type": "markdown",
   "metadata": {
    "slideshow": {
     "slide_type": "slide"
    }
   },
   "source": [
    "### 4.2 Residue Calculation\n",
    "\n",
    "S/N ratio of spectrum is the most significant factor for improving RV accuracy.\n",
    "\n",
    "+ Oversampled spectrum has no signal in high band.\n",
    "+ Design of optimal Low pass Filter\n",
    "    + Symmetric FIR \n",
    "        + Quantify inevitable phase shift due to non-linear $\\lambda$\n",
    "        + Optimal FIR filter design (Remez, Parks-McClellan algorithm, Least Square)"
   ]
  },
  {
   "cell_type": "markdown",
   "metadata": {
    "slideshow": {
     "slide_type": "slide"
    }
   },
   "source": [
    "### 4.3 Weights\n",
    "\n",
    "Flexibility at this step is the real power of LS framework.\n",
    "\n",
    "Corrections and re-weighting for \n",
    "+ Telluric\n",
    "+ Stellar Activity\n",
    "+ Solar Contamination\n",
    "\n",
    "Methods being explored:\n",
    "+ Identifying wavelength regions affected by stellar activity by comparing multi epoch HARPS specta.\n",
    "+ Using template to estimate RV information content per pixel and do optimal weighing.\n"
   ]
  },
  {
   "cell_type": "markdown",
   "metadata": {
    "slideshow": {
     "slide_type": "slide"
    }
   },
   "source": [
    "### 4.4 Minimisation\n",
    "\n",
    "Non-Linear Least Square minimisation technique\n",
    "\n",
    "+ Error propagation will be tricky with significant tinkering of the process.\n",
    "+ Iterative approach"
   ]
  }
 ],
 "metadata": {
  "celltoolbar": "Slideshow",
  "kernelspec": {
   "display_name": "Python 2",
   "language": "python",
   "name": "python2"
  },
  "language_info": {
   "codemirror_mode": {
    "name": "ipython",
    "version": 2
   },
   "file_extension": ".py",
   "mimetype": "text/x-python",
   "name": "python",
   "nbconvert_exporter": "python",
   "pygments_lexer": "ipython2",
   "version": "2.7.5"
  }
 },
 "nbformat": 4,
 "nbformat_minor": 0
}
